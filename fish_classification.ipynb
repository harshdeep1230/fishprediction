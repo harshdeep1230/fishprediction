{
  "nbformat": 4,
  "nbformat_minor": 0,
  "metadata": {
    "kernelspec": {
      "language": "python",
      "display_name": "Python 3",
      "name": "python3"
    },
    "language_info": {
      "pygments_lexer": "ipython3",
      "nbconvert_exporter": "python",
      "version": "3.6.4",
      "file_extension": ".py",
      "codemirror_mode": {
        "name": "ipython",
        "version": 3
      },
      "name": "python",
      "mimetype": "text/x-python"
    },
    "colab": {
      "name": "fish-classification.ipynb",
      "provenance": [],
      "collapsed_sections": []
    }
  },
  "cells": [
    {
      "cell_type": "markdown",
      "metadata": {
        "id": "WH8FP8SVPPSN"
      },
      "source": [
        "# Importing Libraries 📖"
      ]
    },
    {
      "cell_type": "code",
      "metadata": {
        "_uuid": "8f2839f25d086af736a60e9eeb907d3b93b6e0e5",
        "_cell_guid": "b1076dfc-b9ad-4769-8c92-a6c4dae69d19",
        "execution": {
          "iopub.status.busy": "2021-07-02T05:08:55.334036Z",
          "iopub.execute_input": "2021-07-02T05:08:55.334428Z",
          "iopub.status.idle": "2021-07-02T05:09:01.702977Z",
          "shell.execute_reply.started": "2021-07-02T05:08:55.334394Z",
          "shell.execute_reply": "2021-07-02T05:09:01.701984Z"
        },
        "trusted": true,
        "id": "f-iIGB2iPPSY"
      },
      "source": [
        "# This Python 3 environment comes with many helpful analytics libraries installed\n",
        "# It is defined by the kaggle/python Docker image: https://github.com/kaggle/docker-python\n",
        "# For example, here's several helpful packages to load\n",
        "\n",
        "import numpy as np # linear algebra\n",
        "import pandas as pd # data processing, CSV file I/O (e.g. pd.read_csv)\n",
        "import matplotlib.pyplot as plt\n",
        "import seaborn as sns\n",
        "\n",
        "from sklearn.preprocessing import LabelEncoder\n",
        "from sklearn.preprocessing import StandardScaler\n",
        "from sklearn.model_selection import train_test_split\n",
        "from sklearn.linear_model import LogisticRegression\n",
        "\n",
        "import tensorflow as tf\n",
        "\n",
        "# Input data files are available in the read-only \"../input/\" directory\n",
        "# For example, running this (by clicking run or pressing Shift+Enter) will list all files under the input directory\n",
        "\n",
        "import os\n",
        "for dirname, _, filenames in os.walk('/kaggle/input'):\n",
        "    for filename in filenames:\n",
        "        print(os.path.join(dirname, filename))\n",
        "\n",
        "# You can write up to 20GB to the current directory (/kaggle/working/) that gets preserved as output when you create a version using \"Save & Run All\" \n",
        "# You can also write temporary files to /kaggle/temp/, but they won't be saved outside of the current session"
      ],
      "execution_count": 1,
      "outputs": []
    },
    {
      "cell_type": "code",
      "metadata": {
        "execution": {
          "iopub.status.busy": "2021-07-02T04:49:43.44427Z",
          "iopub.execute_input": "2021-07-02T04:49:43.444631Z",
          "iopub.status.idle": "2021-07-02T04:49:43.461718Z",
          "shell.execute_reply.started": "2021-07-02T04:49:43.444601Z",
          "shell.execute_reply": "2021-07-02T04:49:43.460807Z"
        },
        "trusted": true,
        "id": "7ZLLBUWrPPSc"
      },
      "source": [
        "data = pd.read_csv('Fish.csv')"
      ],
      "execution_count": 2,
      "outputs": []
    },
    {
      "cell_type": "code",
      "metadata": {
        "id": "-DO5KmPQUZzQ"
      },
      "source": [
        ""
      ],
      "execution_count": null,
      "outputs": []
    },
    {
      "cell_type": "code",
      "metadata": {
        "execution": {
          "iopub.status.busy": "2021-07-02T04:49:46.895633Z",
          "iopub.execute_input": "2021-07-02T04:49:46.896004Z",
          "iopub.status.idle": "2021-07-02T04:49:46.939805Z",
          "shell.execute_reply.started": "2021-07-02T04:49:46.895971Z",
          "shell.execute_reply": "2021-07-02T04:49:46.938751Z"
        },
        "trusted": true,
        "colab": {
          "base_uri": "https://localhost:8080/",
          "height": 419
        },
        "id": "SgJbJpJQPPSd",
        "outputId": "0ab18824-efa2-4793-83ab-c68efdf11642"
      },
      "source": [
        "data"
      ],
      "execution_count": 3,
      "outputs": [
        {
          "output_type": "execute_result",
          "data": {
            "text/html": [
              "<div>\n",
              "<style scoped>\n",
              "    .dataframe tbody tr th:only-of-type {\n",
              "        vertical-align: middle;\n",
              "    }\n",
              "\n",
              "    .dataframe tbody tr th {\n",
              "        vertical-align: top;\n",
              "    }\n",
              "\n",
              "    .dataframe thead th {\n",
              "        text-align: right;\n",
              "    }\n",
              "</style>\n",
              "<table border=\"1\" class=\"dataframe\">\n",
              "  <thead>\n",
              "    <tr style=\"text-align: right;\">\n",
              "      <th></th>\n",
              "      <th>Species</th>\n",
              "      <th>Weight</th>\n",
              "      <th>Length1</th>\n",
              "      <th>Length2</th>\n",
              "      <th>Length3</th>\n",
              "      <th>Height</th>\n",
              "      <th>Width</th>\n",
              "    </tr>\n",
              "  </thead>\n",
              "  <tbody>\n",
              "    <tr>\n",
              "      <th>0</th>\n",
              "      <td>Bream</td>\n",
              "      <td>242.0</td>\n",
              "      <td>23.2</td>\n",
              "      <td>25.4</td>\n",
              "      <td>30.0</td>\n",
              "      <td>11.5200</td>\n",
              "      <td>4.0200</td>\n",
              "    </tr>\n",
              "    <tr>\n",
              "      <th>1</th>\n",
              "      <td>Bream</td>\n",
              "      <td>290.0</td>\n",
              "      <td>24.0</td>\n",
              "      <td>26.3</td>\n",
              "      <td>31.2</td>\n",
              "      <td>12.4800</td>\n",
              "      <td>4.3056</td>\n",
              "    </tr>\n",
              "    <tr>\n",
              "      <th>2</th>\n",
              "      <td>Bream</td>\n",
              "      <td>340.0</td>\n",
              "      <td>23.9</td>\n",
              "      <td>26.5</td>\n",
              "      <td>31.1</td>\n",
              "      <td>12.3778</td>\n",
              "      <td>4.6961</td>\n",
              "    </tr>\n",
              "    <tr>\n",
              "      <th>3</th>\n",
              "      <td>Bream</td>\n",
              "      <td>363.0</td>\n",
              "      <td>26.3</td>\n",
              "      <td>29.0</td>\n",
              "      <td>33.5</td>\n",
              "      <td>12.7300</td>\n",
              "      <td>4.4555</td>\n",
              "    </tr>\n",
              "    <tr>\n",
              "      <th>4</th>\n",
              "      <td>Bream</td>\n",
              "      <td>430.0</td>\n",
              "      <td>26.5</td>\n",
              "      <td>29.0</td>\n",
              "      <td>34.0</td>\n",
              "      <td>12.4440</td>\n",
              "      <td>5.1340</td>\n",
              "    </tr>\n",
              "    <tr>\n",
              "      <th>...</th>\n",
              "      <td>...</td>\n",
              "      <td>...</td>\n",
              "      <td>...</td>\n",
              "      <td>...</td>\n",
              "      <td>...</td>\n",
              "      <td>...</td>\n",
              "      <td>...</td>\n",
              "    </tr>\n",
              "    <tr>\n",
              "      <th>154</th>\n",
              "      <td>Smelt</td>\n",
              "      <td>12.2</td>\n",
              "      <td>11.5</td>\n",
              "      <td>12.2</td>\n",
              "      <td>13.4</td>\n",
              "      <td>2.0904</td>\n",
              "      <td>1.3936</td>\n",
              "    </tr>\n",
              "    <tr>\n",
              "      <th>155</th>\n",
              "      <td>Smelt</td>\n",
              "      <td>13.4</td>\n",
              "      <td>11.7</td>\n",
              "      <td>12.4</td>\n",
              "      <td>13.5</td>\n",
              "      <td>2.4300</td>\n",
              "      <td>1.2690</td>\n",
              "    </tr>\n",
              "    <tr>\n",
              "      <th>156</th>\n",
              "      <td>Smelt</td>\n",
              "      <td>12.2</td>\n",
              "      <td>12.1</td>\n",
              "      <td>13.0</td>\n",
              "      <td>13.8</td>\n",
              "      <td>2.2770</td>\n",
              "      <td>1.2558</td>\n",
              "    </tr>\n",
              "    <tr>\n",
              "      <th>157</th>\n",
              "      <td>Smelt</td>\n",
              "      <td>19.7</td>\n",
              "      <td>13.2</td>\n",
              "      <td>14.3</td>\n",
              "      <td>15.2</td>\n",
              "      <td>2.8728</td>\n",
              "      <td>2.0672</td>\n",
              "    </tr>\n",
              "    <tr>\n",
              "      <th>158</th>\n",
              "      <td>Smelt</td>\n",
              "      <td>19.9</td>\n",
              "      <td>13.8</td>\n",
              "      <td>15.0</td>\n",
              "      <td>16.2</td>\n",
              "      <td>2.9322</td>\n",
              "      <td>1.8792</td>\n",
              "    </tr>\n",
              "  </tbody>\n",
              "</table>\n",
              "<p>159 rows × 7 columns</p>\n",
              "</div>"
            ],
            "text/plain": [
              "    Species  Weight  Length1  Length2  Length3   Height   Width\n",
              "0     Bream   242.0     23.2     25.4     30.0  11.5200  4.0200\n",
              "1     Bream   290.0     24.0     26.3     31.2  12.4800  4.3056\n",
              "2     Bream   340.0     23.9     26.5     31.1  12.3778  4.6961\n",
              "3     Bream   363.0     26.3     29.0     33.5  12.7300  4.4555\n",
              "4     Bream   430.0     26.5     29.0     34.0  12.4440  5.1340\n",
              "..      ...     ...      ...      ...      ...      ...     ...\n",
              "154   Smelt    12.2     11.5     12.2     13.4   2.0904  1.3936\n",
              "155   Smelt    13.4     11.7     12.4     13.5   2.4300  1.2690\n",
              "156   Smelt    12.2     12.1     13.0     13.8   2.2770  1.2558\n",
              "157   Smelt    19.7     13.2     14.3     15.2   2.8728  2.0672\n",
              "158   Smelt    19.9     13.8     15.0     16.2   2.9322  1.8792\n",
              "\n",
              "[159 rows x 7 columns]"
            ]
          },
          "metadata": {
            "tags": []
          },
          "execution_count": 3
        }
      ]
    },
    {
      "cell_type": "code",
      "metadata": {
        "execution": {
          "iopub.status.busy": "2021-07-02T04:50:05.695147Z",
          "iopub.execute_input": "2021-07-02T04:50:05.695498Z",
          "iopub.status.idle": "2021-07-02T04:50:05.705509Z",
          "shell.execute_reply.started": "2021-07-02T04:50:05.69547Z",
          "shell.execute_reply": "2021-07-02T04:50:05.704377Z"
        },
        "trusted": true,
        "colab": {
          "base_uri": "https://localhost:8080/"
        },
        "id": "JPWRhtSPPPSe",
        "outputId": "2fd5413e-6e03-4baf-cf13-7de54b9f17d4"
      },
      "source": [
        "data.isnull().any()"
      ],
      "execution_count": 4,
      "outputs": [
        {
          "output_type": "execute_result",
          "data": {
            "text/plain": [
              "Species    False\n",
              "Weight     False\n",
              "Length1    False\n",
              "Length2    False\n",
              "Length3    False\n",
              "Height     False\n",
              "Width      False\n",
              "dtype: bool"
            ]
          },
          "metadata": {
            "tags": []
          },
          "execution_count": 4
        }
      ]
    },
    {
      "cell_type": "markdown",
      "metadata": {
        "id": "Eg3DUfzvPPSf"
      },
      "source": [
        "# Preprocessing 🛠️"
      ]
    },
    {
      "cell_type": "code",
      "metadata": {
        "execution": {
          "iopub.status.busy": "2021-07-02T04:54:24.083319Z",
          "iopub.execute_input": "2021-07-02T04:54:24.08367Z",
          "iopub.status.idle": "2021-07-02T04:54:24.089851Z",
          "shell.execute_reply.started": "2021-07-02T04:54:24.08364Z",
          "shell.execute_reply": "2021-07-02T04:54:24.088877Z"
        },
        "trusted": true,
        "colab": {
          "base_uri": "https://localhost:8080/"
        },
        "id": "ZCLDejxCPPSg",
        "outputId": "9835eb33-a30b-439d-f803-7bc4630ed9cf"
      },
      "source": [
        "len(list(data['Species'].unique()))"
      ],
      "execution_count": 5,
      "outputs": [
        {
          "output_type": "execute_result",
          "data": {
            "text/plain": [
              "7"
            ]
          },
          "metadata": {
            "tags": []
          },
          "execution_count": 5
        }
      ]
    },
    {
      "cell_type": "code",
      "metadata": {
        "execution": {
          "iopub.status.busy": "2021-07-02T04:56:19.201795Z",
          "iopub.execute_input": "2021-07-02T04:56:19.202171Z",
          "iopub.status.idle": "2021-07-02T04:56:19.21107Z",
          "shell.execute_reply.started": "2021-07-02T04:56:19.20214Z",
          "shell.execute_reply": "2021-07-02T04:56:19.210074Z"
        },
        "trusted": true,
        "colab": {
          "base_uri": "https://localhost:8080/"
        },
        "id": "WsKQLg9dPPSi",
        "outputId": "f7ab71fa-854c-4d1c-c538-e8d40a3b73ff"
      },
      "source": [
        "encoder = LabelEncoder()\n",
        "data['Species'] = encoder.fit_transform(data['Species'])\n",
        "\n",
        "fish_type = {index: type for index, type in enumerate(encoder.classes_)}\n",
        "fish_type"
      ],
      "execution_count": 6,
      "outputs": [
        {
          "output_type": "execute_result",
          "data": {
            "text/plain": [
              "{0: 'Bream',\n",
              " 1: 'Parkki',\n",
              " 2: 'Perch',\n",
              " 3: 'Pike',\n",
              " 4: 'Roach',\n",
              " 5: 'Smelt',\n",
              " 6: 'Whitefish'}"
            ]
          },
          "metadata": {
            "tags": []
          },
          "execution_count": 6
        }
      ]
    },
    {
      "cell_type": "code",
      "metadata": {
        "execution": {
          "iopub.status.busy": "2021-07-02T04:56:28.982617Z",
          "iopub.execute_input": "2021-07-02T04:56:28.983012Z",
          "iopub.status.idle": "2021-07-02T04:56:29.691309Z",
          "shell.execute_reply.started": "2021-07-02T04:56:28.982978Z",
          "shell.execute_reply": "2021-07-02T04:56:29.690197Z"
        },
        "trusted": true,
        "colab": {
          "base_uri": "https://localhost:8080/",
          "height": 596
        },
        "id": "tK_a2XDJPPSk",
        "outputId": "b5f0af10-0b8e-4266-ddf2-6bb796635eb3"
      },
      "source": [
        "plt.figure(figsize = (12, 10))\n",
        "sns.heatmap(data.corr(), annot = True)\n",
        "plt.show()"
      ],
      "execution_count": 7,
      "outputs": [
        {
          "output_type": "display_data",
          "data": {
            "image/png": "[encoded data removed]",
            "text/plain": [
              "<Figure size 864x720 with 2 Axes>"
            ]
          },
          "metadata": {
            "tags": [],
            "needs_background": "light"
          }
        }
      ]
    },
    {
      "cell_type": "code",
      "metadata": {
        "execution": {
          "iopub.status.busy": "2021-07-02T05:03:04.820294Z",
          "iopub.execute_input": "2021-07-02T05:03:04.820725Z",
          "iopub.status.idle": "2021-07-02T05:03:04.829089Z",
          "shell.execute_reply.started": "2021-07-02T05:03:04.820689Z",
          "shell.execute_reply": "2021-07-02T05:03:04.827884Z"
        },
        "trusted": true,
        "id": "AjW5-SrLPPSm"
      },
      "source": [
        "X = data.drop('Species', axis = 1)\n",
        "y = data['Species']"
      ],
      "execution_count": 8,
      "outputs": []
    },
    {
      "cell_type": "code",
      "metadata": {
        "execution": {
          "iopub.status.busy": "2021-07-02T05:03:07.49712Z",
          "iopub.execute_input": "2021-07-02T05:03:07.497481Z",
          "iopub.status.idle": "2021-07-02T05:03:07.521163Z",
          "shell.execute_reply.started": "2021-07-02T05:03:07.497451Z",
          "shell.execute_reply": "2021-07-02T05:03:07.519982Z"
        },
        "trusted": true,
        "colab": {
          "base_uri": "https://localhost:8080/",
          "height": 419
        },
        "id": "8I1GQZRPPPSn",
        "outputId": "6e5e3f58-58ff-43db-85ba-ed2bea2cf950"
      },
      "source": [
        "X"
      ],
      "execution_count": 9,
      "outputs": [
        {
          "output_type": "execute_result",
          "data": {
            "text/html": [
              "<div>\n",
              "<style scoped>\n",
              "    .dataframe tbody tr th:only-of-type {\n",
              "        vertical-align: middle;\n",
              "    }\n",
              "\n",
              "    .dataframe tbody tr th {\n",
              "        vertical-align: top;\n",
              "    }\n",
              "\n",
              "    .dataframe thead th {\n",
              "        text-align: right;\n",
              "    }\n",
              "</style>\n",
              "<table border=\"1\" class=\"dataframe\">\n",
              "  <thead>\n",
              "    <tr style=\"text-align: right;\">\n",
              "      <th></th>\n",
              "      <th>Weight</th>\n",
              "      <th>Length1</th>\n",
              "      <th>Length2</th>\n",
              "      <th>Length3</th>\n",
              "      <th>Height</th>\n",
              "      <th>Width</th>\n",
              "    </tr>\n",
              "  </thead>\n",
              "  <tbody>\n",
              "    <tr>\n",
              "      <th>0</th>\n",
              "      <td>242.0</td>\n",
              "      <td>23.2</td>\n",
              "      <td>25.4</td>\n",
              "      <td>30.0</td>\n",
              "      <td>11.5200</td>\n",
              "      <td>4.0200</td>\n",
              "    </tr>\n",
              "    <tr>\n",
              "      <th>1</th>\n",
              "      <td>290.0</td>\n",
              "      <td>24.0</td>\n",
              "      <td>26.3</td>\n",
              "      <td>31.2</td>\n",
              "      <td>12.4800</td>\n",
              "      <td>4.3056</td>\n",
              "    </tr>\n",
              "    <tr>\n",
              "      <th>2</th>\n",
              "      <td>340.0</td>\n",
              "      <td>23.9</td>\n",
              "      <td>26.5</td>\n",
              "      <td>31.1</td>\n",
              "      <td>12.3778</td>\n",
              "      <td>4.6961</td>\n",
              "    </tr>\n",
              "    <tr>\n",
              "      <th>3</th>\n",
              "      <td>363.0</td>\n",
              "      <td>26.3</td>\n",
              "      <td>29.0</td>\n",
              "      <td>33.5</td>\n",
              "      <td>12.7300</td>\n",
              "      <td>4.4555</td>\n",
              "    </tr>\n",
              "    <tr>\n",
              "      <th>4</th>\n",
              "      <td>430.0</td>\n",
              "      <td>26.5</td>\n",
              "      <td>29.0</td>\n",
              "      <td>34.0</td>\n",
              "      <td>12.4440</td>\n",
              "      <td>5.1340</td>\n",
              "    </tr>\n",
              "    <tr>\n",
              "      <th>...</th>\n",
              "      <td>...</td>\n",
              "      <td>...</td>\n",
              "      <td>...</td>\n",
              "      <td>...</td>\n",
              "      <td>...</td>\n",
              "      <td>...</td>\n",
              "    </tr>\n",
              "    <tr>\n",
              "      <th>154</th>\n",
              "      <td>12.2</td>\n",
              "      <td>11.5</td>\n",
              "      <td>12.2</td>\n",
              "      <td>13.4</td>\n",
              "      <td>2.0904</td>\n",
              "      <td>1.3936</td>\n",
              "    </tr>\n",
              "    <tr>\n",
              "      <th>155</th>\n",
              "      <td>13.4</td>\n",
              "      <td>11.7</td>\n",
              "      <td>12.4</td>\n",
              "      <td>13.5</td>\n",
              "      <td>2.4300</td>\n",
              "      <td>1.2690</td>\n",
              "    </tr>\n",
              "    <tr>\n",
              "      <th>156</th>\n",
              "      <td>12.2</td>\n",
              "      <td>12.1</td>\n",
              "      <td>13.0</td>\n",
              "      <td>13.8</td>\n",
              "      <td>2.2770</td>\n",
              "      <td>1.2558</td>\n",
              "    </tr>\n",
              "    <tr>\n",
              "      <th>157</th>\n",
              "      <td>19.7</td>\n",
              "      <td>13.2</td>\n",
              "      <td>14.3</td>\n",
              "      <td>15.2</td>\n",
              "      <td>2.8728</td>\n",
              "      <td>2.0672</td>\n",
              "    </tr>\n",
              "    <tr>\n",
              "      <th>158</th>\n",
              "      <td>19.9</td>\n",
              "      <td>13.8</td>\n",
              "      <td>15.0</td>\n",
              "      <td>16.2</td>\n",
              "      <td>2.9322</td>\n",
              "      <td>1.8792</td>\n",
              "    </tr>\n",
              "  </tbody>\n",
              "</table>\n",
              "<p>159 rows × 6 columns</p>\n",
              "</div>"
            ],
            "text/plain": [
              "     Weight  Length1  Length2  Length3   Height   Width\n",
              "0     242.0     23.2     25.4     30.0  11.5200  4.0200\n",
              "1     290.0     24.0     26.3     31.2  12.4800  4.3056\n",
              "2     340.0     23.9     26.5     31.1  12.3778  4.6961\n",
              "3     363.0     26.3     29.0     33.5  12.7300  4.4555\n",
              "4     430.0     26.5     29.0     34.0  12.4440  5.1340\n",
              "..      ...      ...      ...      ...      ...     ...\n",
              "154    12.2     11.5     12.2     13.4   2.0904  1.3936\n",
              "155    13.4     11.7     12.4     13.5   2.4300  1.2690\n",
              "156    12.2     12.1     13.0     13.8   2.2770  1.2558\n",
              "157    19.7     13.2     14.3     15.2   2.8728  2.0672\n",
              "158    19.9     13.8     15.0     16.2   2.9322  1.8792\n",
              "\n",
              "[159 rows x 6 columns]"
            ]
          },
          "metadata": {
            "tags": []
          },
          "execution_count": 9
        }
      ]
    },
    {
      "cell_type": "code",
      "metadata": {
        "execution": {
          "iopub.status.busy": "2021-07-02T05:06:09.284541Z",
          "iopub.execute_input": "2021-07-02T05:06:09.285085Z",
          "iopub.status.idle": "2021-07-02T05:06:09.295285Z",
          "shell.execute_reply.started": "2021-07-02T05:06:09.285039Z",
          "shell.execute_reply": "2021-07-02T05:06:09.294175Z"
        },
        "trusted": true,
        "id": "HKzhzMEcPPSo"
      },
      "source": [
        "scaler = StandardScaler()\n",
        "X = pd.DataFrame(scaler.fit_transform(X), columns = X.columns)"
      ],
      "execution_count": 10,
      "outputs": []
    },
    {
      "cell_type": "code",
      "metadata": {
        "execution": {
          "iopub.status.busy": "2021-07-02T05:06:12.18172Z",
          "iopub.execute_input": "2021-07-02T05:06:12.18229Z",
          "iopub.status.idle": "2021-07-02T05:06:12.202434Z",
          "shell.execute_reply.started": "2021-07-02T05:06:12.182241Z",
          "shell.execute_reply": "2021-07-02T05:06:12.201559Z"
        },
        "trusted": true,
        "colab": {
          "base_uri": "https://localhost:8080/",
          "height": 419
        },
        "id": "-n-4NpRnPPSo",
        "outputId": "ee36b356-96e5-415e-b6be-1f128a6b5939"
      },
      "source": [
        "X"
      ],
      "execution_count": 11,
      "outputs": [
        {
          "output_type": "execute_result",
          "data": {
            "text/html": [
              "<div>\n",
              "<style scoped>\n",
              "    .dataframe tbody tr th:only-of-type {\n",
              "        vertical-align: middle;\n",
              "    }\n",
              "\n",
              "    .dataframe tbody tr th {\n",
              "        vertical-align: top;\n",
              "    }\n",
              "\n",
              "    .dataframe thead th {\n",
              "        text-align: right;\n",
              "    }\n",
              "</style>\n",
              "<table border=\"1\" class=\"dataframe\">\n",
              "  <thead>\n",
              "    <tr style=\"text-align: right;\">\n",
              "      <th></th>\n",
              "      <th>Weight</th>\n",
              "      <th>Length1</th>\n",
              "      <th>Length2</th>\n",
              "      <th>Length3</th>\n",
              "      <th>Height</th>\n",
              "      <th>Width</th>\n",
              "    </tr>\n",
              "  </thead>\n",
              "  <tbody>\n",
              "    <tr>\n",
              "      <th>0</th>\n",
              "      <td>-0.438072</td>\n",
              "      <td>-0.305789</td>\n",
              "      <td>-0.282303</td>\n",
              "      <td>-0.106020</td>\n",
              "      <td>0.596579</td>\n",
              "      <td>-0.236529</td>\n",
              "    </tr>\n",
              "    <tr>\n",
              "      <th>1</th>\n",
              "      <td>-0.303562</td>\n",
              "      <td>-0.225507</td>\n",
              "      <td>-0.198054</td>\n",
              "      <td>-0.002337</td>\n",
              "      <td>0.821261</td>\n",
              "      <td>-0.066579</td>\n",
              "    </tr>\n",
              "    <tr>\n",
              "      <th>2</th>\n",
              "      <td>-0.163448</td>\n",
              "      <td>-0.235542</td>\n",
              "      <td>-0.179332</td>\n",
              "      <td>-0.010977</td>\n",
              "      <td>0.797341</td>\n",
              "      <td>0.165793</td>\n",
              "    </tr>\n",
              "    <tr>\n",
              "      <th>3</th>\n",
              "      <td>-0.098995</td>\n",
              "      <td>0.005302</td>\n",
              "      <td>0.054694</td>\n",
              "      <td>0.196390</td>\n",
              "      <td>0.879771</td>\n",
              "      <td>0.022621</td>\n",
              "    </tr>\n",
              "    <tr>\n",
              "      <th>4</th>\n",
              "      <td>0.088759</td>\n",
              "      <td>0.025372</td>\n",
              "      <td>0.054694</td>\n",
              "      <td>0.239592</td>\n",
              "      <td>0.812835</td>\n",
              "      <td>0.426371</td>\n",
              "    </tr>\n",
              "    <tr>\n",
              "      <th>...</th>\n",
              "      <td>...</td>\n",
              "      <td>...</td>\n",
              "      <td>...</td>\n",
              "      <td>...</td>\n",
              "      <td>...</td>\n",
              "      <td>...</td>\n",
              "    </tr>\n",
              "    <tr>\n",
              "      <th>154</th>\n",
              "      <td>-1.082039</td>\n",
              "      <td>-1.479903</td>\n",
              "      <td>-1.517960</td>\n",
              "      <td>-1.540309</td>\n",
              "      <td>-1.610359</td>\n",
              "      <td>-1.799403</td>\n",
              "    </tr>\n",
              "    <tr>\n",
              "      <th>155</th>\n",
              "      <td>-1.078676</td>\n",
              "      <td>-1.459833</td>\n",
              "      <td>-1.499238</td>\n",
              "      <td>-1.531669</td>\n",
              "      <td>-1.530878</td>\n",
              "      <td>-1.873547</td>\n",
              "    </tr>\n",
              "    <tr>\n",
              "      <th>156</th>\n",
              "      <td>-1.082039</td>\n",
              "      <td>-1.419692</td>\n",
              "      <td>-1.443072</td>\n",
              "      <td>-1.505748</td>\n",
              "      <td>-1.566687</td>\n",
              "      <td>-1.881402</td>\n",
              "    </tr>\n",
              "    <tr>\n",
              "      <th>157</th>\n",
              "      <td>-1.061022</td>\n",
              "      <td>-1.309305</td>\n",
              "      <td>-1.321378</td>\n",
              "      <td>-1.384784</td>\n",
              "      <td>-1.427243</td>\n",
              "      <td>-1.398568</td>\n",
              "    </tr>\n",
              "    <tr>\n",
              "      <th>158</th>\n",
              "      <td>-1.060461</td>\n",
              "      <td>-1.249094</td>\n",
              "      <td>-1.255851</td>\n",
              "      <td>-1.298381</td>\n",
              "      <td>-1.413341</td>\n",
              "      <td>-1.510440</td>\n",
              "    </tr>\n",
              "  </tbody>\n",
              "</table>\n",
              "<p>159 rows × 6 columns</p>\n",
              "</div>"
            ],
            "text/plain": [
              "       Weight   Length1   Length2   Length3    Height     Width\n",
              "0   -0.438072 -0.305789 -0.282303 -0.106020  0.596579 -0.236529\n",
              "1   -0.303562 -0.225507 -0.198054 -0.002337  0.821261 -0.066579\n",
              "2   -0.163448 -0.235542 -0.179332 -0.010977  0.797341  0.165793\n",
              "3   -0.098995  0.005302  0.054694  0.196390  0.879771  0.022621\n",
              "4    0.088759  0.025372  0.054694  0.239592  0.812835  0.426371\n",
              "..        ...       ...       ...       ...       ...       ...\n",
              "154 -1.082039 -1.479903 -1.517960 -1.540309 -1.610359 -1.799403\n",
              "155 -1.078676 -1.459833 -1.499238 -1.531669 -1.530878 -1.873547\n",
              "156 -1.082039 -1.419692 -1.443072 -1.505748 -1.566687 -1.881402\n",
              "157 -1.061022 -1.309305 -1.321378 -1.384784 -1.427243 -1.398568\n",
              "158 -1.060461 -1.249094 -1.255851 -1.298381 -1.413341 -1.510440\n",
              "\n",
              "[159 rows x 6 columns]"
            ]
          },
          "metadata": {
            "tags": []
          },
          "execution_count": 11
        }
      ]
    },
    {
      "cell_type": "markdown",
      "metadata": {
        "id": "fmJYT_q9PPSp"
      },
      "source": [
        "# Model "
      ]
    },
    {
      "cell_type": "markdown",
      "metadata": {
        "id": "pIIPl07iPPSq"
      },
      "source": [
        "## Logistic Regression Model 📏"
      ]
    },
    {
      "cell_type": "code",
      "metadata": {
        "execution": {
          "iopub.status.busy": "2021-07-02T05:07:10.683838Z",
          "iopub.execute_input": "2021-07-02T05:07:10.684637Z",
          "iopub.status.idle": "2021-07-02T05:07:10.690793Z",
          "shell.execute_reply.started": "2021-07-02T05:07:10.684596Z",
          "shell.execute_reply": "2021-07-02T05:07:10.689969Z"
        },
        "trusted": true,
        "id": "yUgLqcT3PPSr"
      },
      "source": [
        "X_train, X_test, y_train, y_test = train_test_split(X, y, train_size = 0.7)"
      ],
      "execution_count": 12,
      "outputs": []
    },
    {
      "cell_type": "markdown",
      "metadata": {
        "id": "q99iNXa2PPSr"
      },
      "source": [
        "### Logistic Regression Score 🎯"
      ]
    },
    {
      "cell_type": "code",
      "metadata": {
        "execution": {
          "iopub.status.busy": "2021-07-02T05:37:22.563222Z",
          "iopub.execute_input": "2021-07-02T05:37:22.563582Z",
          "iopub.status.idle": "2021-07-02T05:37:22.601233Z",
          "shell.execute_reply.started": "2021-07-02T05:37:22.563551Z",
          "shell.execute_reply": "2021-07-02T05:37:22.600184Z"
        },
        "trusted": true,
        "colab": {
          "base_uri": "https://localhost:8080/"
        },
        "id": "fdi-5FaQPPSr",
        "outputId": "c71b3352-297a-4970-dfc0-bcf139b7cc42"
      },
      "source": [
        "logistic_model = LogisticRegression()\n",
        "logistic_model.fit(X_train, y_train)\n",
        "\n",
        "print(str(logistic_model.score(X_test, y_test) * 100) + \"%\")"
      ],
      "execution_count": 13,
      "outputs": [
        {
          "output_type": "stream",
          "text": [
            "77.08333333333334%\n"
          ],
          "name": "stdout"
        }
      ]
    },
    {
      "cell_type": "markdown",
      "metadata": {
        "id": "Zw0x70XoPPSs"
      },
      "source": [
        "## Neural Network Model 🧠"
      ]
    },
    {
      "cell_type": "code",
      "metadata": {
        "execution": {
          "iopub.status.busy": "2021-07-02T05:30:46.336319Z",
          "iopub.execute_input": "2021-07-02T05:30:46.336817Z",
          "iopub.status.idle": "2021-07-02T05:30:56.574589Z",
          "shell.execute_reply.started": "2021-07-02T05:30:46.336784Z",
          "shell.execute_reply": "2021-07-02T05:30:56.573514Z"
        },
        "trusted": true,
        "colab": {
          "base_uri": "https://localhost:8080/"
        },
        "id": "GWwplSc5PPSs",
        "outputId": "2dfb55e8-2ff7-4a80-a517-726875fe2131"
      },
      "source": [
        "inputs = tf.keras.Input(shape = (6, ))\n",
        "x = tf.keras.layers.Dense(64, activation = 'relu')(inputs)\n",
        "x = tf.keras.layers.Dense(16, activation = 'relu')(x)\n",
        "x = tf.keras.layers.Dense(16, activation = 'relu')(x)\n",
        "outputs = tf.keras.layers.Dense(7, activation = 'softmax')(x)\n",
        "\n",
        "model = tf.keras.Model(inputs, outputs)\n",
        "\n",
        "model.compile(\n",
        "    optimizer = 'adam',\n",
        "    loss = 'sparse_categorical_crossentropy',\n",
        "    metrics = ['accuracy']\n",
        ")\n",
        "\n",
        "batch_size = 32\n",
        "epochs = 150\n",
        "\n",
        "history = model.fit(\n",
        "    X_train,\n",
        "    y_train,\n",
        "    validation_split = 0.2,\n",
        "    batch_size = batch_size,\n",
        "    epochs = epochs\n",
        ")"
      ],
      "execution_count": 14,
      "outputs": [
        {
          "output_type": "stream",
          "text": [
            "Epoch 1/150\n",
            "3/3 [==============================] - 1s 93ms/step - loss: 2.0259 - accuracy: 0.0341 - val_loss: 1.9717 - val_accuracy: 0.0000e+00\n",
            "Epoch 2/150\n",
            "3/3 [==============================] - 0s 11ms/step - loss: 1.9870 - accuracy: 0.0568 - val_loss: 1.9448 - val_accuracy: 0.1304\n",
            "Epoch 3/150\n",
            "3/3 [==============================] - 0s 11ms/step - loss: 1.9528 - accuracy: 0.2273 - val_loss: 1.9200 - val_accuracy: 0.3043\n",
            "Epoch 4/150\n",
            "3/3 [==============================] - 0s 10ms/step - loss: 1.9243 - accuracy: 0.2955 - val_loss: 1.8963 - val_accuracy: 0.5217\n",
            "Epoch 5/150\n",
            "3/3 [==============================] - 0s 10ms/step - loss: 1.8981 - accuracy: 0.3295 - val_loss: 1.8772 - val_accuracy: 0.5652\n",
            "Epoch 6/150\n",
            "3/3 [==============================] - 0s 11ms/step - loss: 1.8771 - accuracy: 0.4205 - val_loss: 1.8602 - val_accuracy: 0.5652\n",
            "Epoch 7/150\n",
            "3/3 [==============================] - 0s 11ms/step - loss: 1.8566 - accuracy: 0.5000 - val_loss: 1.8421 - val_accuracy: 0.4783\n",
            "Epoch 8/150\n",
            "3/3 [==============================] - 0s 11ms/step - loss: 1.8374 - accuracy: 0.5114 - val_loss: 1.8238 - val_accuracy: 0.4783\n",
            "Epoch 9/150\n",
            "3/3 [==============================] - 0s 10ms/step - loss: 1.8192 - accuracy: 0.5114 - val_loss: 1.8051 - val_accuracy: 0.3913\n",
            "Epoch 10/150\n",
            "3/3 [==============================] - 0s 13ms/step - loss: 1.7990 - accuracy: 0.4886 - val_loss: 1.7853 - val_accuracy: 0.3913\n",
            "Epoch 11/150\n",
            "3/3 [==============================] - 0s 12ms/step - loss: 1.7766 - accuracy: 0.5000 - val_loss: 1.7630 - val_accuracy: 0.3913\n",
            "Epoch 12/150\n",
            "3/3 [==============================] - 0s 11ms/step - loss: 1.7545 - accuracy: 0.5114 - val_loss: 1.7387 - val_accuracy: 0.3913\n",
            "Epoch 13/150\n",
            "3/3 [==============================] - 0s 10ms/step - loss: 1.7288 - accuracy: 0.5341 - val_loss: 1.7129 - val_accuracy: 0.3913\n",
            "Epoch 14/150\n",
            "3/3 [==============================] - 0s 11ms/step - loss: 1.7027 - accuracy: 0.5227 - val_loss: 1.6856 - val_accuracy: 0.3913\n",
            "Epoch 15/150\n",
            "3/3 [==============================] - 0s 10ms/step - loss: 1.6731 - accuracy: 0.5227 - val_loss: 1.6571 - val_accuracy: 0.4348\n",
            "Epoch 16/150\n",
            "3/3 [==============================] - 0s 11ms/step - loss: 1.6434 - accuracy: 0.5341 - val_loss: 1.6261 - val_accuracy: 0.4348\n",
            "Epoch 17/150\n",
            "3/3 [==============================] - 0s 11ms/step - loss: 1.6115 - accuracy: 0.5000 - val_loss: 1.5931 - val_accuracy: 0.3913\n",
            "Epoch 18/150\n",
            "3/3 [==============================] - 0s 11ms/step - loss: 1.5777 - accuracy: 0.5455 - val_loss: 1.5591 - val_accuracy: 0.4783\n",
            "Epoch 19/150\n",
            "3/3 [==============================] - 0s 14ms/step - loss: 1.5428 - accuracy: 0.5341 - val_loss: 1.5233 - val_accuracy: 0.5217\n",
            "Epoch 20/150\n",
            "3/3 [==============================] - 0s 12ms/step - loss: 1.5087 - accuracy: 0.5341 - val_loss: 1.4877 - val_accuracy: 0.4783\n",
            "Epoch 21/150\n",
            "3/3 [==============================] - 0s 11ms/step - loss: 1.4715 - accuracy: 0.5682 - val_loss: 1.4524 - val_accuracy: 0.4783\n",
            "Epoch 22/150\n",
            "3/3 [==============================] - 0s 12ms/step - loss: 1.4334 - accuracy: 0.5909 - val_loss: 1.4179 - val_accuracy: 0.4783\n",
            "Epoch 23/150\n",
            "3/3 [==============================] - 0s 11ms/step - loss: 1.3964 - accuracy: 0.5909 - val_loss: 1.3841 - val_accuracy: 0.5217\n",
            "Epoch 24/150\n",
            "3/3 [==============================] - 0s 10ms/step - loss: 1.3607 - accuracy: 0.5909 - val_loss: 1.3510 - val_accuracy: 0.5217\n",
            "Epoch 25/150\n",
            "3/3 [==============================] - 0s 11ms/step - loss: 1.3215 - accuracy: 0.5909 - val_loss: 1.3175 - val_accuracy: 0.5217\n",
            "Epoch 26/150\n",
            "3/3 [==============================] - 0s 11ms/step - loss: 1.2830 - accuracy: 0.5909 - val_loss: 1.2851 - val_accuracy: 0.5217\n",
            "Epoch 27/150\n",
            "3/3 [==============================] - 0s 11ms/step - loss: 1.2493 - accuracy: 0.5909 - val_loss: 1.2558 - val_accuracy: 0.5217\n",
            "Epoch 28/150\n",
            "3/3 [==============================] - 0s 11ms/step - loss: 1.2125 - accuracy: 0.6023 - val_loss: 1.2318 - val_accuracy: 0.5217\n",
            "Epoch 29/150\n",
            "3/3 [==============================] - 0s 11ms/step - loss: 1.1759 - accuracy: 0.6477 - val_loss: 1.2067 - val_accuracy: 0.5652\n",
            "Epoch 30/150\n",
            "3/3 [==============================] - 0s 11ms/step - loss: 1.1402 - accuracy: 0.6818 - val_loss: 1.1857 - val_accuracy: 0.6087\n",
            "Epoch 31/150\n",
            "3/3 [==============================] - 0s 14ms/step - loss: 1.1050 - accuracy: 0.7159 - val_loss: 1.1633 - val_accuracy: 0.6087\n",
            "Epoch 32/150\n",
            "3/3 [==============================] - 0s 12ms/step - loss: 1.0715 - accuracy: 0.7273 - val_loss: 1.1433 - val_accuracy: 0.6087\n",
            "Epoch 33/150\n",
            "3/3 [==============================] - 0s 11ms/step - loss: 1.0416 - accuracy: 0.7273 - val_loss: 1.1212 - val_accuracy: 0.6087\n",
            "Epoch 34/150\n",
            "3/3 [==============================] - 0s 13ms/step - loss: 1.0088 - accuracy: 0.7273 - val_loss: 1.0933 - val_accuracy: 0.6087\n",
            "Epoch 35/150\n",
            "3/3 [==============================] - 0s 12ms/step - loss: 0.9837 - accuracy: 0.7273 - val_loss: 1.0621 - val_accuracy: 0.6087\n",
            "Epoch 36/150\n",
            "3/3 [==============================] - 0s 12ms/step - loss: 0.9565 - accuracy: 0.7273 - val_loss: 1.0336 - val_accuracy: 0.6087\n",
            "Epoch 37/150\n",
            "3/3 [==============================] - 0s 12ms/step - loss: 0.9331 - accuracy: 0.7273 - val_loss: 1.0042 - val_accuracy: 0.6087\n",
            "Epoch 38/150\n",
            "3/3 [==============================] - 0s 26ms/step - loss: 0.9118 - accuracy: 0.7273 - val_loss: 0.9694 - val_accuracy: 0.6087\n",
            "Epoch 39/150\n",
            "3/3 [==============================] - 0s 14ms/step - loss: 0.8900 - accuracy: 0.7273 - val_loss: 0.9411 - val_accuracy: 0.6087\n",
            "Epoch 40/150\n",
            "3/3 [==============================] - 0s 12ms/step - loss: 0.8688 - accuracy: 0.7273 - val_loss: 0.9164 - val_accuracy: 0.6087\n",
            "Epoch 41/150\n",
            "3/3 [==============================] - 0s 14ms/step - loss: 0.8505 - accuracy: 0.7273 - val_loss: 0.8986 - val_accuracy: 0.6087\n",
            "Epoch 42/150\n",
            "3/3 [==============================] - 0s 14ms/step - loss: 0.8324 - accuracy: 0.7273 - val_loss: 0.8730 - val_accuracy: 0.6087\n",
            "Epoch 43/150\n",
            "3/3 [==============================] - 0s 10ms/step - loss: 0.8134 - accuracy: 0.7273 - val_loss: 0.8545 - val_accuracy: 0.6087\n",
            "Epoch 44/150\n",
            "3/3 [==============================] - 0s 10ms/step - loss: 0.7985 - accuracy: 0.7273 - val_loss: 0.8388 - val_accuracy: 0.6087\n",
            "Epoch 45/150\n",
            "3/3 [==============================] - 0s 10ms/step - loss: 0.7824 - accuracy: 0.7273 - val_loss: 0.8236 - val_accuracy: 0.6087\n",
            "Epoch 46/150\n",
            "3/3 [==============================] - 0s 10ms/step - loss: 0.7689 - accuracy: 0.7273 - val_loss: 0.8029 - val_accuracy: 0.6087\n",
            "Epoch 47/150\n",
            "3/3 [==============================] - 0s 9ms/step - loss: 0.7542 - accuracy: 0.7273 - val_loss: 0.7915 - val_accuracy: 0.6087\n",
            "Epoch 48/150\n",
            "3/3 [==============================] - 0s 11ms/step - loss: 0.7405 - accuracy: 0.7273 - val_loss: 0.7773 - val_accuracy: 0.6087\n",
            "Epoch 49/150\n",
            "3/3 [==============================] - 0s 12ms/step - loss: 0.7260 - accuracy: 0.7273 - val_loss: 0.7683 - val_accuracy: 0.6087\n",
            "Epoch 50/150\n",
            "3/3 [==============================] - 0s 10ms/step - loss: 0.7137 - accuracy: 0.7273 - val_loss: 0.7565 - val_accuracy: 0.6087\n",
            "Epoch 51/150\n",
            "3/3 [==============================] - 0s 12ms/step - loss: 0.7000 - accuracy: 0.7273 - val_loss: 0.7421 - val_accuracy: 0.6087\n",
            "Epoch 52/150\n",
            "3/3 [==============================] - 0s 17ms/step - loss: 0.6872 - accuracy: 0.7386 - val_loss: 0.7294 - val_accuracy: 0.6087\n",
            "Epoch 53/150\n",
            "3/3 [==============================] - 0s 11ms/step - loss: 0.6737 - accuracy: 0.7614 - val_loss: 0.7207 - val_accuracy: 0.6522\n",
            "Epoch 54/150\n",
            "3/3 [==============================] - 0s 11ms/step - loss: 0.6618 - accuracy: 0.7841 - val_loss: 0.7090 - val_accuracy: 0.6522\n",
            "Epoch 55/150\n",
            "3/3 [==============================] - 0s 10ms/step - loss: 0.6502 - accuracy: 0.8068 - val_loss: 0.7042 - val_accuracy: 0.6522\n",
            "Epoch 56/150\n",
            "3/3 [==============================] - 0s 12ms/step - loss: 0.6385 - accuracy: 0.7955 - val_loss: 0.6998 - val_accuracy: 0.6522\n",
            "Epoch 57/150\n",
            "3/3 [==============================] - 0s 10ms/step - loss: 0.6258 - accuracy: 0.8068 - val_loss: 0.6874 - val_accuracy: 0.6957\n",
            "Epoch 58/150\n",
            "3/3 [==============================] - 0s 12ms/step - loss: 0.6141 - accuracy: 0.8182 - val_loss: 0.6776 - val_accuracy: 0.7391\n",
            "Epoch 59/150\n",
            "3/3 [==============================] - 0s 11ms/step - loss: 0.6061 - accuracy: 0.8182 - val_loss: 0.6653 - val_accuracy: 0.7391\n",
            "Epoch 60/150\n",
            "3/3 [==============================] - 0s 12ms/step - loss: 0.5924 - accuracy: 0.8182 - val_loss: 0.6630 - val_accuracy: 0.7391\n",
            "Epoch 61/150\n",
            "3/3 [==============================] - 0s 12ms/step - loss: 0.5820 - accuracy: 0.8295 - val_loss: 0.6640 - val_accuracy: 0.7391\n",
            "Epoch 62/150\n",
            "3/3 [==============================] - 0s 12ms/step - loss: 0.5725 - accuracy: 0.8295 - val_loss: 0.6625 - val_accuracy: 0.7391\n",
            "Epoch 63/150\n",
            "3/3 [==============================] - 0s 14ms/step - loss: 0.5619 - accuracy: 0.8295 - val_loss: 0.6482 - val_accuracy: 0.7391\n",
            "Epoch 64/150\n",
            "3/3 [==============================] - 0s 13ms/step - loss: 0.5514 - accuracy: 0.8409 - val_loss: 0.6379 - val_accuracy: 0.7391\n",
            "Epoch 65/150\n",
            "3/3 [==============================] - 0s 12ms/step - loss: 0.5419 - accuracy: 0.8295 - val_loss: 0.6340 - val_accuracy: 0.7391\n",
            "Epoch 66/150\n",
            "3/3 [==============================] - 0s 10ms/step - loss: 0.5335 - accuracy: 0.8295 - val_loss: 0.6269 - val_accuracy: 0.7391\n",
            "Epoch 67/150\n",
            "3/3 [==============================] - 0s 11ms/step - loss: 0.5231 - accuracy: 0.8295 - val_loss: 0.6190 - val_accuracy: 0.7826\n",
            "Epoch 68/150\n",
            "3/3 [==============================] - 0s 12ms/step - loss: 0.5162 - accuracy: 0.8295 - val_loss: 0.6087 - val_accuracy: 0.7826\n",
            "Epoch 69/150\n",
            "3/3 [==============================] - 0s 13ms/step - loss: 0.5067 - accuracy: 0.8295 - val_loss: 0.6071 - val_accuracy: 0.7826\n",
            "Epoch 70/150\n",
            "3/3 [==============================] - 0s 11ms/step - loss: 0.4984 - accuracy: 0.8295 - val_loss: 0.6021 - val_accuracy: 0.7826\n",
            "Epoch 71/150\n",
            "3/3 [==============================] - 0s 10ms/step - loss: 0.4899 - accuracy: 0.8295 - val_loss: 0.6028 - val_accuracy: 0.7391\n",
            "Epoch 72/150\n",
            "3/3 [==============================] - 0s 12ms/step - loss: 0.4830 - accuracy: 0.8295 - val_loss: 0.6018 - val_accuracy: 0.7391\n",
            "Epoch 73/150\n",
            "3/3 [==============================] - 0s 11ms/step - loss: 0.4749 - accuracy: 0.8295 - val_loss: 0.6003 - val_accuracy: 0.7391\n",
            "Epoch 74/150\n",
            "3/3 [==============================] - 0s 14ms/step - loss: 0.4674 - accuracy: 0.8295 - val_loss: 0.5911 - val_accuracy: 0.7391\n",
            "Epoch 75/150\n",
            "3/3 [==============================] - 0s 11ms/step - loss: 0.4609 - accuracy: 0.8295 - val_loss: 0.5819 - val_accuracy: 0.7826\n",
            "Epoch 76/150\n",
            "3/3 [==============================] - 0s 10ms/step - loss: 0.4531 - accuracy: 0.8295 - val_loss: 0.5750 - val_accuracy: 0.7826\n",
            "Epoch 77/150\n",
            "3/3 [==============================] - 0s 10ms/step - loss: 0.4464 - accuracy: 0.8295 - val_loss: 0.5703 - val_accuracy: 0.7826\n",
            "Epoch 78/150\n",
            "3/3 [==============================] - 0s 14ms/step - loss: 0.4413 - accuracy: 0.8295 - val_loss: 0.5717 - val_accuracy: 0.7391\n",
            "Epoch 79/150\n",
            "3/3 [==============================] - 0s 18ms/step - loss: 0.4348 - accuracy: 0.8295 - val_loss: 0.5682 - val_accuracy: 0.7391\n",
            "Epoch 80/150\n",
            "3/3 [==============================] - 0s 11ms/step - loss: 0.4287 - accuracy: 0.8295 - val_loss: 0.5599 - val_accuracy: 0.7826\n",
            "Epoch 81/150\n",
            "3/3 [==============================] - 0s 12ms/step - loss: 0.4240 - accuracy: 0.8295 - val_loss: 0.5572 - val_accuracy: 0.7826\n",
            "Epoch 82/150\n",
            "3/3 [==============================] - 0s 11ms/step - loss: 0.4180 - accuracy: 0.8295 - val_loss: 0.5525 - val_accuracy: 0.7826\n",
            "Epoch 83/150\n",
            "3/3 [==============================] - 0s 16ms/step - loss: 0.4138 - accuracy: 0.8295 - val_loss: 0.5484 - val_accuracy: 0.7826\n",
            "Epoch 84/150\n",
            "3/3 [==============================] - 0s 11ms/step - loss: 0.4086 - accuracy: 0.8409 - val_loss: 0.5466 - val_accuracy: 0.7826\n",
            "Epoch 85/150\n",
            "3/3 [==============================] - 0s 12ms/step - loss: 0.4044 - accuracy: 0.8409 - val_loss: 0.5442 - val_accuracy: 0.7826\n",
            "Epoch 86/150\n",
            "3/3 [==============================] - 0s 11ms/step - loss: 0.3999 - accuracy: 0.8409 - val_loss: 0.5495 - val_accuracy: 0.7391\n",
            "Epoch 87/150\n",
            "3/3 [==============================] - 0s 11ms/step - loss: 0.3949 - accuracy: 0.8409 - val_loss: 0.5485 - val_accuracy: 0.7391\n",
            "Epoch 88/150\n",
            "3/3 [==============================] - 0s 11ms/step - loss: 0.3938 - accuracy: 0.8409 - val_loss: 0.5499 - val_accuracy: 0.7391\n",
            "Epoch 89/150\n",
            "3/3 [==============================] - 0s 11ms/step - loss: 0.3879 - accuracy: 0.8409 - val_loss: 0.5346 - val_accuracy: 0.7826\n",
            "Epoch 90/150\n",
            "3/3 [==============================] - 0s 14ms/step - loss: 0.3829 - accuracy: 0.8409 - val_loss: 0.5281 - val_accuracy: 0.7826\n",
            "Epoch 91/150\n",
            "3/3 [==============================] - 0s 11ms/step - loss: 0.3804 - accuracy: 0.8409 - val_loss: 0.5262 - val_accuracy: 0.7826\n",
            "Epoch 92/150\n",
            "3/3 [==============================] - 0s 13ms/step - loss: 0.3775 - accuracy: 0.8409 - val_loss: 0.5281 - val_accuracy: 0.7826\n",
            "Epoch 93/150\n",
            "3/3 [==============================] - 0s 13ms/step - loss: 0.3749 - accuracy: 0.8409 - val_loss: 0.5357 - val_accuracy: 0.7391\n",
            "Epoch 94/150\n",
            "3/3 [==============================] - 0s 14ms/step - loss: 0.3695 - accuracy: 0.8409 - val_loss: 0.5348 - val_accuracy: 0.7391\n",
            "Epoch 95/150\n",
            "3/3 [==============================] - 0s 13ms/step - loss: 0.3666 - accuracy: 0.8409 - val_loss: 0.5313 - val_accuracy: 0.7391\n",
            "Epoch 96/150\n",
            "3/3 [==============================] - 0s 13ms/step - loss: 0.3637 - accuracy: 0.8409 - val_loss: 0.5277 - val_accuracy: 0.7391\n",
            "Epoch 97/150\n",
            "3/3 [==============================] - 0s 11ms/step - loss: 0.3600 - accuracy: 0.8409 - val_loss: 0.5238 - val_accuracy: 0.7391\n",
            "Epoch 98/150\n",
            "3/3 [==============================] - 0s 11ms/step - loss: 0.3576 - accuracy: 0.8409 - val_loss: 0.5166 - val_accuracy: 0.7826\n",
            "Epoch 99/150\n",
            "3/3 [==============================] - 0s 10ms/step - loss: 0.3552 - accuracy: 0.8409 - val_loss: 0.5134 - val_accuracy: 0.7826\n",
            "Epoch 100/150\n",
            "3/3 [==============================] - 0s 11ms/step - loss: 0.3507 - accuracy: 0.8409 - val_loss: 0.5140 - val_accuracy: 0.7826\n",
            "Epoch 101/150\n",
            "3/3 [==============================] - 0s 17ms/step - loss: 0.3502 - accuracy: 0.8409 - val_loss: 0.5213 - val_accuracy: 0.7391\n",
            "Epoch 102/150\n",
            "3/3 [==============================] - 0s 12ms/step - loss: 0.3463 - accuracy: 0.8409 - val_loss: 0.5254 - val_accuracy: 0.7391\n",
            "Epoch 103/150\n",
            "3/3 [==============================] - 0s 12ms/step - loss: 0.3436 - accuracy: 0.8409 - val_loss: 0.5184 - val_accuracy: 0.7391\n",
            "Epoch 104/150\n",
            "3/3 [==============================] - 0s 16ms/step - loss: 0.3397 - accuracy: 0.8409 - val_loss: 0.5124 - val_accuracy: 0.7391\n",
            "Epoch 105/150\n",
            "3/3 [==============================] - 0s 12ms/step - loss: 0.3372 - accuracy: 0.8409 - val_loss: 0.5048 - val_accuracy: 0.7826\n",
            "Epoch 106/150\n",
            "3/3 [==============================] - 0s 12ms/step - loss: 0.3356 - accuracy: 0.8409 - val_loss: 0.5014 - val_accuracy: 0.7826\n",
            "Epoch 107/150\n",
            "3/3 [==============================] - 0s 11ms/step - loss: 0.3344 - accuracy: 0.8409 - val_loss: 0.5007 - val_accuracy: 0.7826\n",
            "Epoch 108/150\n",
            "3/3 [==============================] - 0s 12ms/step - loss: 0.3311 - accuracy: 0.8409 - val_loss: 0.5025 - val_accuracy: 0.7826\n",
            "Epoch 109/150\n",
            "3/3 [==============================] - 0s 22ms/step - loss: 0.3275 - accuracy: 0.8409 - val_loss: 0.5000 - val_accuracy: 0.7826\n",
            "Epoch 110/150\n",
            "3/3 [==============================] - 0s 11ms/step - loss: 0.3275 - accuracy: 0.8409 - val_loss: 0.5027 - val_accuracy: 0.7391\n",
            "Epoch 111/150\n",
            "3/3 [==============================] - 0s 11ms/step - loss: 0.3248 - accuracy: 0.8409 - val_loss: 0.4928 - val_accuracy: 0.7826\n",
            "Epoch 112/150\n",
            "3/3 [==============================] - 0s 11ms/step - loss: 0.3199 - accuracy: 0.8409 - val_loss: 0.4845 - val_accuracy: 0.7826\n",
            "Epoch 113/150\n",
            "3/3 [==============================] - 0s 12ms/step - loss: 0.3187 - accuracy: 0.8409 - val_loss: 0.4800 - val_accuracy: 0.7826\n",
            "Epoch 114/150\n",
            "3/3 [==============================] - 0s 11ms/step - loss: 0.3160 - accuracy: 0.8409 - val_loss: 0.4802 - val_accuracy: 0.7826\n",
            "Epoch 115/150\n",
            "3/3 [==============================] - 0s 11ms/step - loss: 0.3142 - accuracy: 0.8409 - val_loss: 0.4815 - val_accuracy: 0.7826\n",
            "Epoch 116/150\n",
            "3/3 [==============================] - 0s 16ms/step - loss: 0.3121 - accuracy: 0.8409 - val_loss: 0.4904 - val_accuracy: 0.7826\n",
            "Epoch 117/150\n",
            "3/3 [==============================] - 0s 12ms/step - loss: 0.3088 - accuracy: 0.8409 - val_loss: 0.4963 - val_accuracy: 0.7391\n",
            "Epoch 118/150\n",
            "3/3 [==============================] - 0s 14ms/step - loss: 0.3063 - accuracy: 0.8409 - val_loss: 0.4952 - val_accuracy: 0.7391\n",
            "Epoch 119/150\n",
            "3/3 [==============================] - 0s 14ms/step - loss: 0.3041 - accuracy: 0.8409 - val_loss: 0.4889 - val_accuracy: 0.7826\n",
            "Epoch 120/150\n",
            "3/3 [==============================] - 0s 12ms/step - loss: 0.3030 - accuracy: 0.8409 - val_loss: 0.4839 - val_accuracy: 0.7826\n",
            "Epoch 121/150\n",
            "3/3 [==============================] - 0s 15ms/step - loss: 0.3014 - accuracy: 0.8409 - val_loss: 0.4811 - val_accuracy: 0.7826\n",
            "Epoch 122/150\n",
            "3/3 [==============================] - 0s 13ms/step - loss: 0.2976 - accuracy: 0.8409 - val_loss: 0.4817 - val_accuracy: 0.7826\n",
            "Epoch 123/150\n",
            "3/3 [==============================] - 0s 12ms/step - loss: 0.2957 - accuracy: 0.8409 - val_loss: 0.4839 - val_accuracy: 0.7826\n",
            "Epoch 124/150\n",
            "3/3 [==============================] - 0s 11ms/step - loss: 0.2932 - accuracy: 0.8409 - val_loss: 0.4906 - val_accuracy: 0.7391\n",
            "Epoch 125/150\n",
            "3/3 [==============================] - 0s 11ms/step - loss: 0.2923 - accuracy: 0.8409 - val_loss: 0.4928 - val_accuracy: 0.7391\n",
            "Epoch 126/150\n",
            "3/3 [==============================] - 0s 22ms/step - loss: 0.2910 - accuracy: 0.8409 - val_loss: 0.4808 - val_accuracy: 0.7826\n",
            "Epoch 127/150\n",
            "3/3 [==============================] - 0s 11ms/step - loss: 0.2885 - accuracy: 0.8523 - val_loss: 0.4741 - val_accuracy: 0.7826\n",
            "Epoch 128/150\n",
            "3/3 [==============================] - 0s 11ms/step - loss: 0.2859 - accuracy: 0.8636 - val_loss: 0.4756 - val_accuracy: 0.7826\n",
            "Epoch 129/150\n",
            "3/3 [==============================] - 0s 12ms/step - loss: 0.2873 - accuracy: 0.8636 - val_loss: 0.4780 - val_accuracy: 0.7826\n",
            "Epoch 130/150\n",
            "3/3 [==============================] - 0s 12ms/step - loss: 0.2825 - accuracy: 0.8636 - val_loss: 0.4755 - val_accuracy: 0.7826\n",
            "Epoch 131/150\n",
            "3/3 [==============================] - 0s 11ms/step - loss: 0.2805 - accuracy: 0.8636 - val_loss: 0.4691 - val_accuracy: 0.7826\n",
            "Epoch 132/150\n",
            "3/3 [==============================] - 0s 15ms/step - loss: 0.2802 - accuracy: 0.8636 - val_loss: 0.4664 - val_accuracy: 0.7826\n",
            "Epoch 133/150\n",
            "3/3 [==============================] - 0s 12ms/step - loss: 0.2773 - accuracy: 0.8636 - val_loss: 0.4698 - val_accuracy: 0.7826\n",
            "Epoch 134/150\n",
            "3/3 [==============================] - 0s 14ms/step - loss: 0.2748 - accuracy: 0.8636 - val_loss: 0.4789 - val_accuracy: 0.7391\n",
            "Epoch 135/150\n",
            "3/3 [==============================] - 0s 11ms/step - loss: 0.2733 - accuracy: 0.8636 - val_loss: 0.4831 - val_accuracy: 0.7391\n",
            "Epoch 136/150\n",
            "3/3 [==============================] - 0s 13ms/step - loss: 0.2756 - accuracy: 0.8636 - val_loss: 0.4829 - val_accuracy: 0.7391\n",
            "Epoch 137/150\n",
            "3/3 [==============================] - 0s 19ms/step - loss: 0.2700 - accuracy: 0.8750 - val_loss: 0.4690 - val_accuracy: 0.7826\n",
            "Epoch 138/150\n",
            "3/3 [==============================] - 0s 12ms/step - loss: 0.2677 - accuracy: 0.8636 - val_loss: 0.4603 - val_accuracy: 0.7826\n",
            "Epoch 139/150\n",
            "3/3 [==============================] - 0s 12ms/step - loss: 0.2666 - accuracy: 0.8636 - val_loss: 0.4568 - val_accuracy: 0.7826\n",
            "Epoch 140/150\n",
            "3/3 [==============================] - 0s 13ms/step - loss: 0.2655 - accuracy: 0.8636 - val_loss: 0.4590 - val_accuracy: 0.7826\n",
            "Epoch 141/150\n",
            "3/3 [==============================] - 0s 11ms/step - loss: 0.2632 - accuracy: 0.8636 - val_loss: 0.4616 - val_accuracy: 0.7826\n",
            "Epoch 142/150\n",
            "3/3 [==============================] - 0s 13ms/step - loss: 0.2613 - accuracy: 0.8750 - val_loss: 0.4682 - val_accuracy: 0.7826\n",
            "Epoch 143/150\n",
            "3/3 [==============================] - 0s 12ms/step - loss: 0.2603 - accuracy: 0.8636 - val_loss: 0.4715 - val_accuracy: 0.7826\n",
            "Epoch 144/150\n",
            "3/3 [==============================] - 0s 15ms/step - loss: 0.2584 - accuracy: 0.8636 - val_loss: 0.4773 - val_accuracy: 0.7391\n",
            "Epoch 145/150\n",
            "3/3 [==============================] - 0s 13ms/step - loss: 0.2566 - accuracy: 0.8750 - val_loss: 0.4728 - val_accuracy: 0.7391\n",
            "Epoch 146/150\n",
            "3/3 [==============================] - 0s 12ms/step - loss: 0.2560 - accuracy: 0.8864 - val_loss: 0.4643 - val_accuracy: 0.7826\n",
            "Epoch 147/150\n",
            "3/3 [==============================] - 0s 13ms/step - loss: 0.2542 - accuracy: 0.8750 - val_loss: 0.4566 - val_accuracy: 0.7826\n",
            "Epoch 148/150\n",
            "3/3 [==============================] - 0s 13ms/step - loss: 0.2528 - accuracy: 0.8750 - val_loss: 0.4525 - val_accuracy: 0.7826\n",
            "Epoch 149/150\n",
            "3/3 [==============================] - 0s 12ms/step - loss: 0.2499 - accuracy: 0.8864 - val_loss: 0.4580 - val_accuracy: 0.7826\n",
            "Epoch 150/150\n",
            "3/3 [==============================] - 0s 14ms/step - loss: 0.2493 - accuracy: 0.8864 - val_loss: 0.4689 - val_accuracy: 0.7391\n"
          ],
          "name": "stdout"
        }
      ]
    },
    {
      "cell_type": "markdown",
      "metadata": {
        "id": "XyYfUd1QPPSt"
      },
      "source": [
        "### Loss Graph 📈"
      ]
    },
    {
      "cell_type": "code",
      "metadata": {
        "execution": {
          "iopub.status.busy": "2021-07-02T05:30:59.834805Z",
          "iopub.execute_input": "2021-07-02T05:30:59.837736Z",
          "iopub.status.idle": "2021-07-02T05:31:00.11177Z",
          "shell.execute_reply.started": "2021-07-02T05:30:59.837678Z",
          "shell.execute_reply": "2021-07-02T05:31:00.110814Z"
        },
        "trusted": true,
        "colab": {
          "base_uri": "https://localhost:8080/",
          "height": 606
        },
        "id": "w4uq278iPPSu",
        "outputId": "1e21e019-8149-40e0-ad81-af868976a3b9"
      },
      "source": [
        "plt.figure(figsize = (14, 10))\n",
        "\n",
        "epochs_range = range(1, epochs + 1)\n",
        "train_loss = history.history['loss']\n",
        "val_loss = history.history['val_loss']\n",
        "\n",
        "plt.plot(epochs_range, train_loss, label = 'Training_loss')\n",
        "plt.plot(epochs_range, val_loss, label = 'Validation_loss')\n",
        "\n",
        "plt.xlabel('Epochs')\n",
        "plt.ylabel('Loss')\n",
        "plt.legend()\n",
        "plt.show()"
      ],
      "execution_count": 15,
      "outputs": [
        {
          "output_type": "display_data",
          "data": {
            "image/png": "[encoded data removed]",
            "text/plain": [
              "<Figure size 1008x720 with 1 Axes>"
            ]
          },
          "metadata": {
            "tags": [],
            "needs_background": "light"
          }
        }
      ]
    },
    {
      "cell_type": "code",
      "metadata": {
        "execution": {
          "iopub.status.busy": "2021-07-02T05:30:29.898475Z",
          "iopub.execute_input": "2021-07-02T05:30:29.898829Z",
          "iopub.status.idle": "2021-07-02T05:30:29.906133Z",
          "shell.execute_reply.started": "2021-07-02T05:30:29.898799Z",
          "shell.execute_reply": "2021-07-02T05:30:29.904961Z"
        },
        "trusted": true,
        "colab": {
          "base_uri": "https://localhost:8080/"
        },
        "id": "fAd__3rqPPSu",
        "outputId": "ae71ff29-145a-40bd-c412-6492e36b123b"
      },
      "source": [
        "np.argmin(val_loss)"
      ],
      "execution_count": 16,
      "outputs": [
        {
          "output_type": "execute_result",
          "data": {
            "text/plain": [
              "147"
            ]
          },
          "metadata": {
            "tags": []
          },
          "execution_count": 16
        }
      ]
    },
    {
      "cell_type": "markdown",
      "metadata": {
        "id": "Cpzulqk5PPSv"
      },
      "source": [
        "### Neural Network Score 🎯"
      ]
    },
    {
      "cell_type": "code",
      "metadata": {
        "execution": {
          "iopub.status.busy": "2021-07-02T05:31:04.276964Z",
          "iopub.execute_input": "2021-07-02T05:31:04.277329Z",
          "iopub.status.idle": "2021-07-02T05:31:04.346812Z",
          "shell.execute_reply.started": "2021-07-02T05:31:04.277299Z",
          "shell.execute_reply": "2021-07-02T05:31:04.345653Z"
        },
        "trusted": true,
        "colab": {
          "base_uri": "https://localhost:8080/"
        },
        "id": "wkFNkC2FPPSv",
        "outputId": "8f005cd4-c291-439c-98d8-8d3bbde5af45"
      },
      "source": [
        "model.evaluate(X_test, y_test)"
      ],
      "execution_count": 17,
      "outputs": [
        {
          "output_type": "stream",
          "text": [
            "2/2 [==============================] - 0s 6ms/step - loss: 0.5540 - accuracy: 0.7917\n"
          ],
          "name": "stdout"
        },
        {
          "output_type": "execute_result",
          "data": {
            "text/plain": [
              "[0.5540483593940735, 0.7916666865348816]"
            ]
          },
          "metadata": {
            "tags": []
          },
          "execution_count": 17
        }
      ]
    },
    {
      "cell_type": "code",
      "metadata": {
        "colab": {
          "base_uri": "https://localhost:8080/"
        },
        "id": "LWnWRSxQUcNM",
        "outputId": "9e62cf88-2676-412b-e42a-253ad518ea2f"
      },
      "source": [
        "import pickle\n",
        "\n",
        "filename = 'finalized_model.pkl'\n",
        "pickle.dump(logistic_model, open(filename, 'wb'))\n",
        "\n",
        "loaded_model = pickle.load(open(filename, 'rb'))\n",
        "result = loaded_model.score(X_train, y_train)\n",
        "print(result)\n"
      ],
      "execution_count": 21,
      "outputs": [
        {
          "output_type": "stream",
          "text": [
            "0.8378378378378378\n"
          ],
          "name": "stdout"
        }
      ]
    }
  ]
}